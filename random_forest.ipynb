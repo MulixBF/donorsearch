{
 "cells": [
  {
   "cell_type": "code",
   "execution_count": 1,
   "metadata": {
    "collapsed": false
   },
   "outputs": [],
   "source": [
    "import pandas as pd\n",
    "import numpy as np\n",
    "import matplotlib.pyplot as plt\n",
    "import nltk\n",
    "\n",
    "%matplotlib inline"
   ]
  },
  {
   "cell_type": "code",
   "execution_count": 235,
   "metadata": {
    "collapsed": false
   },
   "outputs": [
    {
     "name": "stdout",
     "output_type": "stream",
     "text": [
      "iconv: cannot open input file `vk_feed.csv': No such file or directory\r\n"
     ]
    }
   ],
   "source": [
    "!iconv -f cp1251 -t utf-8 vk_feed.csv -o vk_feed_utf.csv "
   ]
  },
  {
   "cell_type": "code",
   "execution_count": 2,
   "metadata": {
    "collapsed": false
   },
   "outputs": [
    {
     "data": {
      "text/html": [
       "<div>\n",
       "<table border=\"1\" class=\"dataframe\">\n",
       "  <thead>\n",
       "    <tr style=\"text-align: right;\">\n",
       "      <th></th>\n",
       "      <th>text</th>\n",
       "      <th>status</th>\n",
       "      <th>predict_proba</th>\n",
       "      <th>predict</th>\n",
       "      <th>lang</th>\n",
       "    </tr>\n",
       "  </thead>\n",
       "  <tbody>\n",
       "    <tr>\n",
       "      <th>0</th>\n",
       "      <td>ребят краснодар нужны доноры положительная для...</td>\n",
       "      <td>1</td>\n",
       "      <td>1</td>\n",
       "      <td>1</td>\n",
       "      <td>ru</td>\n",
       "    </tr>\n",
       "    <tr>\n",
       "      <th>1</th>\n",
       "      <td>волгоград прошу максимальный перепост предыдущ...</td>\n",
       "      <td>1</td>\n",
       "      <td>1</td>\n",
       "      <td>1</td>\n",
       "      <td>ru</td>\n",
       "    </tr>\n",
       "    <tr>\n",
       "      <th>2</th>\n",
       "      <td>срочно требуются доноры крови любая цельная кр...</td>\n",
       "      <td>1</td>\n",
       "      <td>1</td>\n",
       "      <td>1</td>\n",
       "      <td>ru</td>\n",
       "    </tr>\n",
       "    <tr>\n",
       "      <th>4</th>\n",
       "      <td>анонимно люди крик о помощи срочно а точнее в ...</td>\n",
       "      <td>1</td>\n",
       "      <td>1</td>\n",
       "      <td>1</td>\n",
       "      <td>ru</td>\n",
       "    </tr>\n",
       "    <tr>\n",
       "      <th>5</th>\n",
       "      <td>люди крик о помощи срочно а точнее в понедельн...</td>\n",
       "      <td>1</td>\n",
       "      <td>1</td>\n",
       "      <td>1</td>\n",
       "      <td>ru</td>\n",
       "    </tr>\n",
       "  </tbody>\n",
       "</table>\n",
       "</div>"
      ],
      "text/plain": [
       "                                                text  status  predict_proba  \\\n",
       "0  ребят краснодар нужны доноры положительная для...       1              1   \n",
       "1  волгоград прошу максимальный перепост предыдущ...       1              1   \n",
       "2  срочно требуются доноры крови любая цельная кр...       1              1   \n",
       "4  анонимно люди крик о помощи срочно а точнее в ...       1              1   \n",
       "5  люди крик о помощи срочно а точнее в понедельн...       1              1   \n",
       "\n",
       "   predict lang  \n",
       "0        1   ru  \n",
       "1        1   ru  \n",
       "2        1   ru  \n",
       "4        1   ru  \n",
       "5        1   ru  "
      ]
     },
     "execution_count": 2,
     "metadata": {},
     "output_type": "execute_result"
    }
   ],
   "source": [
    "data = pd.read_csv('cleaned_data.csv', index_col=0)\n",
    "data.head()"
   ]
  },
  {
   "cell_type": "code",
   "execution_count": 3,
   "metadata": {
    "collapsed": true
   },
   "outputs": [],
   "source": [
    "from langdetect import detect\n",
    "\n",
    "def detect_language(text):\n",
    "    try:\n",
    "        lang = detect(text)\n",
    "        return lang\n",
    "    except:\n",
    "        return '-'"
   ]
  },
  {
   "cell_type": "code",
   "execution_count": 4,
   "metadata": {
    "collapsed": false
   },
   "outputs": [
    {
     "data": {
      "text/html": [
       "<div>\n",
       "<table border=\"1\" class=\"dataframe\">\n",
       "  <thead>\n",
       "    <tr style=\"text-align: right;\">\n",
       "      <th></th>\n",
       "      <th>text</th>\n",
       "      <th>status</th>\n",
       "      <th>predict_proba</th>\n",
       "      <th>predict</th>\n",
       "    </tr>\n",
       "    <tr>\n",
       "      <th>lang</th>\n",
       "      <th></th>\n",
       "      <th></th>\n",
       "      <th></th>\n",
       "      <th></th>\n",
       "    </tr>\n",
       "  </thead>\n",
       "  <tbody>\n",
       "    <tr>\n",
       "      <th>ru</th>\n",
       "      <td>26108</td>\n",
       "      <td>26108</td>\n",
       "      <td>26108</td>\n",
       "      <td>26108</td>\n",
       "    </tr>\n",
       "  </tbody>\n",
       "</table>\n",
       "</div>"
      ],
      "text/plain": [
       "       text  status  predict_proba  predict\n",
       "lang                                       \n",
       "ru    26108   26108          26108    26108"
      ]
     },
     "execution_count": 4,
     "metadata": {},
     "output_type": "execute_result"
    }
   ],
   "source": [
    "data.groupby(by='lang').count()"
   ]
  },
  {
   "cell_type": "code",
   "execution_count": 5,
   "metadata": {
    "collapsed": false
   },
   "outputs": [],
   "source": [
    "data = data[data['lang'] == 'ru']"
   ]
  },
  {
   "cell_type": "code",
   "execution_count": 6,
   "metadata": {
    "collapsed": false
   },
   "outputs": [
    {
     "data": {
      "text/html": [
       "<div>\n",
       "<table border=\"1\" class=\"dataframe\">\n",
       "  <thead>\n",
       "    <tr style=\"text-align: right;\">\n",
       "      <th></th>\n",
       "      <th>text</th>\n",
       "      <th>predict_proba</th>\n",
       "      <th>predict</th>\n",
       "      <th>lang</th>\n",
       "    </tr>\n",
       "    <tr>\n",
       "      <th>status</th>\n",
       "      <th></th>\n",
       "      <th></th>\n",
       "      <th></th>\n",
       "      <th></th>\n",
       "    </tr>\n",
       "  </thead>\n",
       "  <tbody>\n",
       "    <tr>\n",
       "      <th>0</th>\n",
       "      <td>1836</td>\n",
       "      <td>1836</td>\n",
       "      <td>1836</td>\n",
       "      <td>1836</td>\n",
       "    </tr>\n",
       "    <tr>\n",
       "      <th>1</th>\n",
       "      <td>24272</td>\n",
       "      <td>24272</td>\n",
       "      <td>24272</td>\n",
       "      <td>24272</td>\n",
       "    </tr>\n",
       "  </tbody>\n",
       "</table>\n",
       "</div>"
      ],
      "text/plain": [
       "         text  predict_proba  predict   lang\n",
       "status                                      \n",
       "0        1836           1836     1836   1836\n",
       "1       24272          24272    24272  24272"
      ]
     },
     "execution_count": 6,
     "metadata": {},
     "output_type": "execute_result"
    }
   ],
   "source": [
    "data.groupby(by='status').count()"
   ]
  },
  {
   "cell_type": "code",
   "execution_count": 7,
   "metadata": {
    "collapsed": false
   },
   "outputs": [],
   "source": [
    "import re\n",
    "from html2text import html2text\n",
    "\n",
    "def preprocess(text):\n",
    "    text = html2text(text)\n",
    "    text = re.sub('[\\W_]', ' ', text)\n",
    "    text = re.sub('\\s+', ' ', text)\n",
    "    text = re.sub('[A-Za-z0-9]', '', text) #removing english\n",
    "    text = text.lower()\n",
    "    return text"
   ]
  },
  {
   "cell_type": "code",
   "execution_count": 43,
   "metadata": {
    "collapsed": false
   },
   "outputs": [
    {
     "name": "stdout",
     "output_type": "stream",
     "text": [
      "(26108, 22421)\n"
     ]
    }
   ],
   "source": [
    "from sklearn.feature_extraction.text import CountVectorizer\n",
    "from nltk.corpus import stopwords\n",
    "from nltk.stem.snowball import RussianStemmer\n",
    "\n",
    "analyze = lambda doc: (RussianStemmer().stem(w) for w in CountVectorizer().build_analyzer()(doc) if len(w) > 3)\n",
    "\n",
    "vectorizer = CountVectorizer(stop_words=stopwords.words('russian'), analyzer=analyze)\n",
    "X = vectorizer.fit_transform(data['text'])\n",
    "\n",
    "print(X.shape)"
   ]
  },
  {
   "cell_type": "code",
   "execution_count": 38,
   "metadata": {
    "collapsed": true
   },
   "outputs": [],
   "source": [
    "y = np.array(data['status'])"
   ]
  },
  {
   "cell_type": "code",
   "execution_count": 51,
   "metadata": {
    "collapsed": false
   },
   "outputs": [
    {
     "name": "stdout",
     "output_type": "stream",
     "text": [
      "0.97594607017\n",
      "0.976712118891\n",
      "0.973647924008\n",
      "0.979163474797\n"
     ]
    }
   ],
   "source": [
    "from sklearn.cross_validation import StratifiedKFold\n",
    "\n",
    "kfold = KFold(y, n_folds=6, shuffle=True)\n",
    "\n",
    "for train_index, test_index in kfold:\n",
    "    X_train, X_test = X[train_index], X[test_index]\n",
    "    y_train, y_test = y[train_index], y[test_index]\n",
    "    \n",
    "    model = RandomForestClassifier()\n",
    "    model.fit(X_train, y_train)\n",
    "    print(model.score(X_test, y_test))"
   ]
  },
  {
   "cell_type": "code",
   "execution_count": 17,
   "metadata": {
    "collapsed": false
   },
   "outputs": [
    {
     "data": {
      "text/plain": [
       "RandomForestClassifier(bootstrap=True, class_weight=None, criterion='gini',\n",
       "            max_depth=None, max_features='auto', max_leaf_nodes=None,\n",
       "            min_samples_leaf=1, min_samples_split=2,\n",
       "            min_weight_fraction_leaf=0.0, n_estimators=10, n_jobs=1,\n",
       "            oob_score=False, random_state=None, verbose=0,\n",
       "            warm_start=False)"
      ]
     },
     "execution_count": 17,
     "metadata": {},
     "output_type": "execute_result"
    }
   ],
   "source": [
    "from sklearn.ensemble import RandomForestClassifier\n",
    "\n",
    "model = RandomForestClassifier()\n",
    "model.fit(X, y)"
   ]
  },
  {
   "cell_type": "code",
   "execution_count": 18,
   "metadata": {
    "collapsed": false
   },
   "outputs": [
    {
     "data": {
      "text/plain": [
       "0.99919564884326639"
      ]
     },
     "execution_count": 18,
     "metadata": {},
     "output_type": "execute_result"
    }
   ],
   "source": [
    "model.score(X, y)"
   ]
  },
  {
   "cell_type": "code",
   "execution_count": 39,
   "metadata": {
    "collapsed": false
   },
   "outputs": [],
   "source": [
    "predict_proba = list(map(lambda x: x[1], model.predict_proba(X)))\n",
    "data['predict_proba'] = predict_proba\n",
    "data['predict'] = model.predict(X)"
   ]
  },
  {
   "cell_type": "code",
   "execution_count": 40,
   "metadata": {
    "collapsed": false
   },
   "outputs": [],
   "source": [
    "from sklearn.metrics import roc_curve\n",
    "from sklearn.metrics import auc\n",
    "\n",
    "y_true = data['status']\n",
    "fpr, tpr, thresholds = roc_curve(y_true, predict_proba)\n",
    "auc_score = auc(fpr, tpr)"
   ]
  },
  {
   "cell_type": "code",
   "execution_count": 41,
   "metadata": {
    "collapsed": true
   },
   "outputs": [],
   "source": [
    "def plot_roc(fpr, tpr, auc_score):\n",
    "    plt.figure()\n",
    "    plt.plot(fpr, tpr)\n",
    "    plt.xlim([0.0, 0.5])\n",
    "    plt.ylim([0.5, 1.0])\n",
    "    plt.xlabel('fpr')\n",
    "    plt.ylabel('tpr')\n",
    "    plt.title('ROC Curve. AUC = {0:.2f}'.format(auc_score))\n",
    "    plt.show()"
   ]
  },
  {
   "cell_type": "code",
   "execution_count": 42,
   "metadata": {
    "collapsed": false
   },
   "outputs": [
    {
     "data": {
      "image/png": "[encoded data removed]",
      "text/plain": [
       "<matplotlib.figure.Figure at 0x7f35f2850c88>"
      ]
     },
     "metadata": {},
     "output_type": "display_data"
    }
   ],
   "source": [
    "plot_roc(fpr, tpr, auc_score)"
   ]
  },
  {
   "cell_type": "code",
   "execution_count": 43,
   "metadata": {
    "collapsed": false
   },
   "outputs": [],
   "source": [
    "from sklearn.metrics import precision_recall_curve\n",
    "\n",
    "precision, recall, pcrt = precision_recall_curve(y_true, predict_proba)\n",
    "pcrt = np.insert(pcrt, 0, 0)"
   ]
  },
  {
   "cell_type": "code",
   "execution_count": 44,
   "metadata": {
    "collapsed": false
   },
   "outputs": [
    {
     "data": {
      "text/plain": [
       "<matplotlib.text.Text at 0x7f35f1a8b390>"
      ]
     },
     "execution_count": 44,
     "metadata": {},
     "output_type": "execute_result"
    },
    {
     "data": {
      "image/png": "[encoded data removed]",
      "text/plain": [
       "<matplotlib.figure.Figure at 0x7f35f2e2c320>"
      ]
     },
     "metadata": {},
     "output_type": "display_data"
    }
   ],
   "source": [
    "plt.figure()\n",
    "plt.plot(pcrt, precision)\n",
    "plt.xlabel('threshold')\n",
    "plt.ylabel('precision')"
   ]
  },
  {
   "cell_type": "code",
   "execution_count": 45,
   "metadata": {
    "collapsed": false
   },
   "outputs": [
    {
     "data": {
      "text/plain": [
       "(0.9, 1.0)"
      ]
     },
     "execution_count": 45,
     "metadata": {},
     "output_type": "execute_result"
    },
    {
     "data": {
      "image/png": "[encoded data removed]",
      "text/plain": [
       "<matplotlib.figure.Figure at 0x7f35f1956278>"
      ]
     },
     "metadata": {},
     "output_type": "display_data"
    }
   ],
   "source": [
    "plt.figure()\n",
    "plt.plot(pcrt, recall)\n",
    "plt.xlabel('threshold')\n",
    "plt.ylabel('recall')\n",
    "plt.ylim([0.95, 1.0])\n",
    "plt.xlim([0.90, 1.0])"
   ]
  },
  {
   "cell_type": "code",
   "execution_count": 46,
   "metadata": {
    "collapsed": true
   },
   "outputs": [],
   "source": [
    "data['predict'] = model.predict(X)\n",
    "data.to_csv('cleaned_data.csv')"
   ]
  },
  {
   "cell_type": "code",
   "execution_count": 47,
   "metadata": {
    "collapsed": false
   },
   "outputs": [
    {
     "data": {
      "text/html": [
       "<div>\n",
       "<table border=\"1\" class=\"dataframe\">\n",
       "  <thead>\n",
       "    <tr style=\"text-align: right;\">\n",
       "      <th></th>\n",
       "      <th>text</th>\n",
       "      <th>status</th>\n",
       "      <th>predict_proba</th>\n",
       "      <th>predict</th>\n",
       "      <th>lang</th>\n",
       "    </tr>\n",
       "  </thead>\n",
       "  <tbody>\n",
       "    <tr>\n",
       "      <th>1991</th>\n",
       "      <td>нужно больше крови</td>\n",
       "      <td>1</td>\n",
       "      <td>0.308333</td>\n",
       "      <td>0</td>\n",
       "      <td>ru</td>\n",
       "    </tr>\n",
       "    <tr>\n",
       "      <th>4433</th>\n",
       "      <td>нужна кровь</td>\n",
       "      <td>1</td>\n",
       "      <td>0.328571</td>\n",
       "      <td>0</td>\n",
       "      <td>ru</td>\n",
       "    </tr>\n",
       "    <tr>\n",
       "      <th>13250</th>\n",
       "      <td>беременной нужна кровь</td>\n",
       "      <td>1</td>\n",
       "      <td>0.461905</td>\n",
       "      <td>0</td>\n",
       "      <td>ru</td>\n",
       "    </tr>\n",
       "    <tr>\n",
       "      <th>18465</th>\n",
       "      <td>поможем ванечке одолеть рак</td>\n",
       "      <td>1</td>\n",
       "      <td>0.400000</td>\n",
       "      <td>0</td>\n",
       "      <td>ru</td>\n",
       "    </tr>\n",
       "    <tr>\n",
       "      <th>19071</th>\n",
       "      <td>ребятушки отзовитесь на день кровь из носу нуж...</td>\n",
       "      <td>1</td>\n",
       "      <td>0.500000</td>\n",
       "      <td>0</td>\n",
       "      <td>ru</td>\n",
       "    </tr>\n",
       "    <tr>\n",
       "      <th>26301</th>\n",
       "      <td>нужна кровь много</td>\n",
       "      <td>1</td>\n",
       "      <td>0.461905</td>\n",
       "      <td>0</td>\n",
       "      <td>ru</td>\n",
       "    </tr>\n",
       "  </tbody>\n",
       "</table>\n",
       "</div>"
      ],
      "text/plain": [
       "                                                    text  status  \\\n",
       "1991                                 нужно больше крови        1   \n",
       "4433                                        нужна кровь        1   \n",
       "13250                            беременной нужна кровь        1   \n",
       "18465                       поможем ванечке одолеть рак        1   \n",
       "19071  ребятушки отзовитесь на день кровь из носу нуж...       1   \n",
       "26301                                 нужна кровь много        1   \n",
       "\n",
       "       predict_proba  predict lang  \n",
       "1991        0.308333        0   ru  \n",
       "4433        0.328571        0   ru  \n",
       "13250       0.461905        0   ru  \n",
       "18465       0.400000        0   ru  \n",
       "19071       0.500000        0   ru  \n",
       "26301       0.461905        0   ru  "
      ]
     },
     "execution_count": 47,
     "metadata": {},
     "output_type": "execute_result"
    }
   ],
   "source": [
    "false_negative = data[~data['predict'] & (data['status'] == 1)]\n",
    "false_negative"
   ]
  },
  {
   "cell_type": "code",
   "execution_count": 48,
   "metadata": {
    "collapsed": false
   },
   "outputs": [
    {
     "data": {
      "text/html": [
       "<div>\n",
       "<table border=\"1\" class=\"dataframe\">\n",
       "  <thead>\n",
       "    <tr style=\"text-align: right;\">\n",
       "      <th></th>\n",
       "      <th>text</th>\n",
       "      <th>status</th>\n",
       "      <th>predict_proba</th>\n",
       "      <th>predict</th>\n",
       "      <th>lang</th>\n",
       "    </tr>\n",
       "  </thead>\n",
       "  <tbody>\n",
       "    <tr>\n",
       "      <th>13862</th>\n",
       "      <td>уважаемые участники группы экстренно требуется...</td>\n",
       "      <td>0</td>\n",
       "      <td>0.600000</td>\n",
       "      <td>1</td>\n",
       "      <td>ru</td>\n",
       "    </tr>\n",
       "    <tr>\n",
       "      <th>22743</th>\n",
       "      <td>важно нужны доноры анальных тканей для нашего ...</td>\n",
       "      <td>0</td>\n",
       "      <td>0.800000</td>\n",
       "      <td>1</td>\n",
       "      <td>ru</td>\n",
       "    </tr>\n",
       "    <tr>\n",
       "      <th>23057</th>\n",
       "      <td>срочно один из жителей приюта нуждается в меди...</td>\n",
       "      <td>0</td>\n",
       "      <td>0.600000</td>\n",
       "      <td>1</td>\n",
       "      <td>ru</td>\n",
       "    </tr>\n",
       "    <tr>\n",
       "      <th>23930</th>\n",
       "      <td>внебрачному сыну немцова требуется капля крови...</td>\n",
       "      <td>0</td>\n",
       "      <td>0.600000</td>\n",
       "      <td>1</td>\n",
       "      <td>ru</td>\n",
       "    </tr>\n",
       "    <tr>\n",
       "      <th>25454</th>\n",
       "      <td>оксана витковская нужна помощь на огнивке почт...</td>\n",
       "      <td>0</td>\n",
       "      <td>0.700000</td>\n",
       "      <td>1</td>\n",
       "      <td>ru</td>\n",
       "    </tr>\n",
       "    <tr>\n",
       "      <th>27540</th>\n",
       "      <td>мы постим всевозможное говно на стене но когда...</td>\n",
       "      <td>0</td>\n",
       "      <td>0.600000</td>\n",
       "      <td>1</td>\n",
       "      <td>ru</td>\n",
       "    </tr>\n",
       "    <tr>\n",
       "      <th>27957</th>\n",
       "      <td>сегодня не будет второй операции она должна сн...</td>\n",
       "      <td>0</td>\n",
       "      <td>0.566667</td>\n",
       "      <td>1</td>\n",
       "      <td>ru</td>\n",
       "    </tr>\n",
       "    <tr>\n",
       "      <th>29669</th>\n",
       "      <td>нужны доноры ооцитов яйцеклеток в москву возра...</td>\n",
       "      <td>0</td>\n",
       "      <td>0.600000</td>\n",
       "      <td>1</td>\n",
       "      <td>ru</td>\n",
       "    </tr>\n",
       "    <tr>\n",
       "      <th>30037</th>\n",
       "      <td>ыздар айырлы к н ыздар срочно донор керек ан т...</td>\n",
       "      <td>0</td>\n",
       "      <td>0.600000</td>\n",
       "      <td>1</td>\n",
       "      <td>ru</td>\n",
       "    </tr>\n",
       "    <tr>\n",
       "      <th>32475</th>\n",
       "      <td>срочно требуется донор почки группа крови опла...</td>\n",
       "      <td>0</td>\n",
       "      <td>0.900000</td>\n",
       "      <td>1</td>\n",
       "      <td>ru</td>\n",
       "    </tr>\n",
       "    <tr>\n",
       "      <th>32771</th>\n",
       "      <td>завтра с братом идем сдавать кровь кому нужно ...</td>\n",
       "      <td>0</td>\n",
       "      <td>0.600000</td>\n",
       "      <td>1</td>\n",
       "      <td>ru</td>\n",
       "    </tr>\n",
       "    <tr>\n",
       "      <th>32854</th>\n",
       "      <td>нужна срочная помощь</td>\n",
       "      <td>0</td>\n",
       "      <td>0.758333</td>\n",
       "      <td>1</td>\n",
       "      <td>ru</td>\n",
       "    </tr>\n",
       "    <tr>\n",
       "      <th>33218</th>\n",
       "      <td>максимальной репост</td>\n",
       "      <td>0</td>\n",
       "      <td>0.838333</td>\n",
       "      <td>1</td>\n",
       "      <td>ru</td>\n",
       "    </tr>\n",
       "    <tr>\n",
       "      <th>33275</th>\n",
       "      <td>друзья ребенку моих знакомых срочно нужна кров...</td>\n",
       "      <td>0</td>\n",
       "      <td>0.600000</td>\n",
       "      <td>1</td>\n",
       "      <td>ru</td>\n",
       "    </tr>\n",
       "    <tr>\n",
       "      <th>33494</th>\n",
       "      <td>пес чак овчар наш подопечный возраст лет наход...</td>\n",
       "      <td>0</td>\n",
       "      <td>0.600000</td>\n",
       "      <td>1</td>\n",
       "      <td>ru</td>\n",
       "    </tr>\n",
       "    <tr>\n",
       "      <th>34389</th>\n",
       "      <td>девочки кто хочет бесплатно отдохнуть на кипре...</td>\n",
       "      <td>0</td>\n",
       "      <td>0.600000</td>\n",
       "      <td>1</td>\n",
       "      <td>ru</td>\n",
       "    </tr>\n",
       "  </tbody>\n",
       "</table>\n",
       "</div>"
      ],
      "text/plain": [
       "                                                    text  status  \\\n",
       "13862  уважаемые участники группы экстренно требуется...       0   \n",
       "22743  важно нужны доноры анальных тканей для нашего ...       0   \n",
       "23057  срочно один из жителей приюта нуждается в меди...       0   \n",
       "23930  внебрачному сыну немцова требуется капля крови...       0   \n",
       "25454  оксана витковская нужна помощь на огнивке почт...       0   \n",
       "27540  мы постим всевозможное говно на стене но когда...       0   \n",
       "27957  сегодня не будет второй операции она должна сн...       0   \n",
       "29669  нужны доноры ооцитов яйцеклеток в москву возра...       0   \n",
       "30037  ыздар айырлы к н ыздар срочно донор керек ан т...       0   \n",
       "32475  срочно требуется донор почки группа крови опла...       0   \n",
       "32771  завтра с братом идем сдавать кровь кому нужно ...       0   \n",
       "32854                              нужна срочная помощь        0   \n",
       "33218                               максимальной репост        0   \n",
       "33275  друзья ребенку моих знакомых срочно нужна кров...       0   \n",
       "33494  пес чак овчар наш подопечный возраст лет наход...       0   \n",
       "34389  девочки кто хочет бесплатно отдохнуть на кипре...       0   \n",
       "\n",
       "       predict_proba  predict lang  \n",
       "13862       0.600000        1   ru  \n",
       "22743       0.800000        1   ru  \n",
       "23057       0.600000        1   ru  \n",
       "23930       0.600000        1   ru  \n",
       "25454       0.700000        1   ru  \n",
       "27540       0.600000        1   ru  \n",
       "27957       0.566667        1   ru  \n",
       "29669       0.600000        1   ru  \n",
       "30037       0.600000        1   ru  \n",
       "32475       0.900000        1   ru  \n",
       "32771       0.600000        1   ru  \n",
       "32854       0.758333        1   ru  \n",
       "33218       0.838333        1   ru  \n",
       "33275       0.600000        1   ru  \n",
       "33494       0.600000        1   ru  \n",
       "34389       0.600000        1   ru  "
      ]
     },
     "execution_count": 48,
     "metadata": {},
     "output_type": "execute_result"
    }
   ],
   "source": [
    "false_positive = data[data['predict'] & (data['status'] == 0)]\n",
    "false_positive"
   ]
  },
  {
   "cell_type": "code",
   "execution_count": 23,
   "metadata": {
    "collapsed": false
   },
   "outputs": [],
   "source": [
    "from dill import dill\n",
    "\n",
    "with open('model/randomforest/vectorizer.pkl', 'wb') as f:\n",
    "    dill.dump(vectorizer, f)\n",
    "\n",
    "with open('model/randomforest/model.pkl', 'wb') as f:\n",
    "    dill.dump(model, f)"
   ]
  }
 ],
 "metadata": {
  "kernelspec": {
   "display_name": "Python 3",
   "language": "python",
   "name": "python3"
  },
  "language_info": {
   "codemirror_mode": {
    "name": "ipython",
    "version": 3
   },
   "file_extension": ".py",
   "mimetype": "text/x-python",
   "name": "python",
   "nbconvert_exporter": "python",
   "pygments_lexer": "ipython3",
   "version": "3.5.2"
  }
 },
 "nbformat": 4,
 "nbformat_minor": 0
}
