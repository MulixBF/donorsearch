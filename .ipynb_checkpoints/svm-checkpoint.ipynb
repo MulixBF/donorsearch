{
 "cells": [
  {
   "cell_type": "code",
   "execution_count": 1,
   "metadata": {
    "collapsed": false
   },
   "outputs": [],
   "source": [
    "import pandas as pd\n",
    "import numpy as np\n",
    "import matplotlib.pyplot as plt\n",
    "import nltk\n",
    "\n",
    "%matplotlib inline"
   ]
  },
  {
   "cell_type": "code",
   "execution_count": 53,
   "metadata": {
    "collapsed": false
   },
   "outputs": [
    {
     "name": "stdout",
     "output_type": "stream",
     "text": [
      "iconv: cannot open input file `vk_feed.csv': No such file or directory\r\n"
     ]
    }
   ],
   "source": [
    "!iconv -f cp1251 -t utf-8 vk_feed.csv -o vk_feed_utf.csv "
   ]
  },
  {
   "cell_type": "code",
   "execution_count": 58,
   "metadata": {
    "collapsed": false
   },
   "outputs": [
    {
     "data": {
      "text/html": [
       "<div>\n",
       "<table border=\"1\" class=\"dataframe\">\n",
       "  <thead>\n",
       "    <tr style=\"text-align: right;\">\n",
       "      <th></th>\n",
       "      <th>text</th>\n",
       "      <th>status</th>\n",
       "      <th>predict_proba</th>\n",
       "      <th>predict</th>\n",
       "      <th>lang</th>\n",
       "    </tr>\n",
       "  </thead>\n",
       "  <tbody>\n",
       "    <tr>\n",
       "      <th>0</th>\n",
       "      <td>ребят краснодар нужны доноры положительная для...</td>\n",
       "      <td>1</td>\n",
       "      <td>0.995379</td>\n",
       "      <td>1</td>\n",
       "      <td>ru</td>\n",
       "    </tr>\n",
       "    <tr>\n",
       "      <th>1</th>\n",
       "      <td>волгоград прошу максимальный перепост предыдущ...</td>\n",
       "      <td>1</td>\n",
       "      <td>0.980918</td>\n",
       "      <td>1</td>\n",
       "      <td>ru</td>\n",
       "    </tr>\n",
       "    <tr>\n",
       "      <th>2</th>\n",
       "      <td>срочно требуются доноры крови любая цельная кр...</td>\n",
       "      <td>1</td>\n",
       "      <td>0.995874</td>\n",
       "      <td>1</td>\n",
       "      <td>ru</td>\n",
       "    </tr>\n",
       "    <tr>\n",
       "      <th>4</th>\n",
       "      <td>анонимно люди крик о помощи срочно а точнее в ...</td>\n",
       "      <td>1</td>\n",
       "      <td>1.000000</td>\n",
       "      <td>1</td>\n",
       "      <td>ru</td>\n",
       "    </tr>\n",
       "    <tr>\n",
       "      <th>5</th>\n",
       "      <td>люди крик о помощи срочно а точнее в понедельн...</td>\n",
       "      <td>1</td>\n",
       "      <td>1.000000</td>\n",
       "      <td>1</td>\n",
       "      <td>ru</td>\n",
       "    </tr>\n",
       "  </tbody>\n",
       "</table>\n",
       "</div>"
      ],
      "text/plain": [
       "                                                text  status  predict_proba  \\\n",
       "0  ребят краснодар нужны доноры положительная для...       1       0.995379   \n",
       "1  волгоград прошу максимальный перепост предыдущ...       1       0.980918   \n",
       "2  срочно требуются доноры крови любая цельная кр...       1       0.995874   \n",
       "4  анонимно люди крик о помощи срочно а точнее в ...       1       1.000000   \n",
       "5  люди крик о помощи срочно а точнее в понедельн...       1       1.000000   \n",
       "\n",
       "   predict lang  \n",
       "0        1   ru  \n",
       "1        1   ru  \n",
       "2        1   ru  \n",
       "4        1   ru  \n",
       "5        1   ru  "
      ]
     },
     "execution_count": 58,
     "metadata": {},
     "output_type": "execute_result"
    }
   ],
   "source": [
    "data = pd.read_csv('cleaned_data.csv', index_col=0)\n",
    "data.head()"
   ]
  },
  {
   "cell_type": "code",
   "execution_count": 3,
   "metadata": {
    "collapsed": true
   },
   "outputs": [],
   "source": [
    "from langdetect import detect\n",
    "\n",
    "def detect_language(text):\n",
    "    try:\n",
    "        lang = detect(text)\n",
    "        return lang\n",
    "    except:\n",
    "        return '-'"
   ]
  },
  {
   "cell_type": "code",
   "execution_count": 4,
   "metadata": {
    "collapsed": false
   },
   "outputs": [
    {
     "data": {
      "text/html": [
       "<div>\n",
       "<table border=\"1\" class=\"dataframe\">\n",
       "  <thead>\n",
       "    <tr style=\"text-align: right;\">\n",
       "      <th></th>\n",
       "      <th>text</th>\n",
       "      <th>status</th>\n",
       "      <th>predict_proba</th>\n",
       "      <th>predict</th>\n",
       "    </tr>\n",
       "    <tr>\n",
       "      <th>lang</th>\n",
       "      <th></th>\n",
       "      <th></th>\n",
       "      <th></th>\n",
       "      <th></th>\n",
       "    </tr>\n",
       "  </thead>\n",
       "  <tbody>\n",
       "    <tr>\n",
       "      <th>ru</th>\n",
       "      <td>26108</td>\n",
       "      <td>26108</td>\n",
       "      <td>26108</td>\n",
       "      <td>26108</td>\n",
       "    </tr>\n",
       "  </tbody>\n",
       "</table>\n",
       "</div>"
      ],
      "text/plain": [
       "       text  status  predict_proba  predict\n",
       "lang                                       \n",
       "ru    26108   26108          26108    26108"
      ]
     },
     "execution_count": 4,
     "metadata": {},
     "output_type": "execute_result"
    }
   ],
   "source": [
    "data.groupby(by='lang').count()"
   ]
  },
  {
   "cell_type": "code",
   "execution_count": 5,
   "metadata": {
    "collapsed": false
   },
   "outputs": [],
   "source": [
    "data = data[data['lang'] == 'ru']"
   ]
  },
  {
   "cell_type": "code",
   "execution_count": 7,
   "metadata": {
    "collapsed": false
   },
   "outputs": [],
   "source": [
    "import re\n",
    "from html2text import html2text\n",
    "\n",
    "def preprocess(text):\n",
    "    text = html2text(text)\n",
    "    text = re.sub('[\\W_]', ' ', text)\n",
    "    text = re.sub('_', ' ', text)\n",
    "    text = re.sub('\\s+', ' ', text)\n",
    "    text = re.sub('[A-Za-z0-9]', '', text) #removing english\n",
    "    text = text.lower()\n",
    "    return text"
   ]
  },
  {
   "cell_type": "code",
   "execution_count": 42,
   "metadata": {
    "collapsed": true
   },
   "outputs": [],
   "source": [
    "data['text'] = data['text'].apply(preprocess)\n",
    "data = data.drop_duplicates()"
   ]
  },
  {
   "cell_type": "code",
   "execution_count": 33,
   "metadata": {
    "collapsed": false
   },
   "outputs": [
    {
     "data": {
      "text/html": [
       "<div>\n",
       "<table border=\"1\" class=\"dataframe\">\n",
       "  <thead>\n",
       "    <tr style=\"text-align: right;\">\n",
       "      <th></th>\n",
       "      <th>text</th>\n",
       "      <th>predict_proba</th>\n",
       "      <th>predict</th>\n",
       "      <th>lang</th>\n",
       "    </tr>\n",
       "    <tr>\n",
       "      <th>status</th>\n",
       "      <th></th>\n",
       "      <th></th>\n",
       "      <th></th>\n",
       "      <th></th>\n",
       "    </tr>\n",
       "  </thead>\n",
       "  <tbody>\n",
       "    <tr>\n",
       "      <th>0</th>\n",
       "      <td>1677</td>\n",
       "      <td>1677</td>\n",
       "      <td>1677</td>\n",
       "      <td>1677</td>\n",
       "    </tr>\n",
       "    <tr>\n",
       "      <th>1</th>\n",
       "      <td>22901</td>\n",
       "      <td>22901</td>\n",
       "      <td>22901</td>\n",
       "      <td>22901</td>\n",
       "    </tr>\n",
       "  </tbody>\n",
       "</table>\n",
       "</div>"
      ],
      "text/plain": [
       "         text  predict_proba  predict   lang\n",
       "status                                      \n",
       "0        1677           1677     1677   1677\n",
       "1       22901          22901    22901  22901"
      ]
     },
     "execution_count": 33,
     "metadata": {},
     "output_type": "execute_result"
    }
   ],
   "source": [
    "data.groupby(by='status').count()"
   ]
  },
  {
   "cell_type": "code",
   "execution_count": 59,
   "metadata": {
    "collapsed": false
   },
   "outputs": [
    {
     "name": "stdout",
     "output_type": "stream",
     "text": [
      "(24578, 217040)\n"
     ]
    }
   ],
   "source": [
    "from sklearn.feature_extraction.text import CountVectorizer\n",
    "from nltk.corpus import stopwords\n",
    "from nltk.stem.snowball import RussianStemmer\n",
    "\n",
    "class Preprocessor:\n",
    "    def __init__(self, stemmer, analyser):\n",
    "        self.stemmer = stemmer\n",
    "        self.analyser = analyser\n",
    "        \n",
    "    def __call__(self, doc):\n",
    "        return (self.stemmer.stem(w) for w in self.analyser(doc) if len(w) > 3)\n",
    "    \n",
    "preporcessor = Preprocessor(RussianStemmer(), CountVectorizer(ngram_range=(1,2)).build_analyzer())\n",
    "\n",
    "vectorizer = CountVectorizer(stop_words=stopwords.words('russian'), analyzer=preporcessor)\n",
    "V = vectorizer.fit_transform(data['text'])\n",
    "\n",
    "print(V.shape)"
   ]
  },
  {
   "cell_type": "code",
   "execution_count": 60,
   "metadata": {
    "collapsed": false
   },
   "outputs": [
    {
     "name": "stdout",
     "output_type": "stream",
     "text": [
      "(24578, 217040)\n",
      "(24578,)\n"
     ]
    }
   ],
   "source": [
    "X = V\n",
    "print(X.shape)\n",
    "\n",
    "y = np.array(data['status'])\n",
    "print(y.shape)"
   ]
  },
  {
   "cell_type": "code",
   "execution_count": 63,
   "metadata": {
    "collapsed": false
   },
   "outputs": [
    {
     "name": "stdout",
     "output_type": "stream",
     "text": [
      "[LibSVM]0.984217377156\n",
      "[LibSVM]0.98095703125\n",
      "[LibSVM]0.984375\n",
      "[LibSVM]0.982584635417\n"
     ]
    }
   ],
   "source": [
    "from sklearn.cross_validation import StratifiedKFold\n",
    "from sklearn.svm import SVC\n",
    "\n",
    "kfold = StratifiedKFold(y, n_folds=4, shuffle=True)\n",
    "model = SVC(kernel='linear', probability=True, C=1)\n",
    "\n",
    "for train_index, test_index in kfold:\n",
    "    X_train, X_test = X[train_index], X[test_index]\n",
    "    y_train, y_test = y[train_index], y[test_index]\n",
    "    \n",
    "    model.fit(X_train, y_train)\n",
    "    print(model.score(X_test, y_test))"
   ]
  },
  {
   "cell_type": "code",
   "execution_count": 64,
   "metadata": {
    "collapsed": false
   },
   "outputs": [
    {
     "name": "stdout",
     "output_type": "stream",
     "text": [
      "[LibSVM]0.999877939621\n"
     ]
    }
   ],
   "source": [
    "from sklearn.ensemble import RandomForestClassifier\n",
    "\n",
    "model.fit(X, y)\n",
    "print(model.score(X, y))"
   ]
  },
  {
   "cell_type": "code",
   "execution_count": 65,
   "metadata": {
    "collapsed": false
   },
   "outputs": [],
   "source": [
    "data['predict_proba'] = 1 - model.predict_proba(X)\n",
    "data['predict'] = model.predict(X)"
   ]
  },
  {
   "cell_type": "code",
   "execution_count": 66,
   "metadata": {
    "collapsed": false
   },
   "outputs": [
    {
     "data": {
      "text/plain": [
       "array([[ 1679,     2],\n",
       "       [    1, 22896]])"
      ]
     },
     "execution_count": 66,
     "metadata": {},
     "output_type": "execute_result"
    }
   ],
   "source": [
    "from sklearn.metrics import confusion_matrix\n",
    "\n",
    "confusion_matrix(y, data['predict'])"
   ]
  },
  {
   "cell_type": "code",
   "execution_count": 67,
   "metadata": {
    "collapsed": false
   },
   "outputs": [
    {
     "data": {
      "text/html": [
       "<div>\n",
       "<table border=\"1\" class=\"dataframe\">\n",
       "  <thead>\n",
       "    <tr style=\"text-align: right;\">\n",
       "      <th></th>\n",
       "      <th>text</th>\n",
       "      <th>status</th>\n",
       "      <th>predict_proba</th>\n",
       "      <th>predict</th>\n",
       "      <th>lang</th>\n",
       "    </tr>\n",
       "  </thead>\n",
       "  <tbody>\n",
       "    <tr>\n",
       "      <th>1991</th>\n",
       "      <td>нужно больше крови</td>\n",
       "      <td>1</td>\n",
       "      <td>0.194179</td>\n",
       "      <td>0</td>\n",
       "      <td>ru</td>\n",
       "    </tr>\n",
       "  </tbody>\n",
       "</table>\n",
       "</div>"
      ],
      "text/plain": [
       "                     text  status  predict_proba  predict lang\n",
       "1991  нужно больше крови        1       0.194179        0   ru"
      ]
     },
     "execution_count": 67,
     "metadata": {},
     "output_type": "execute_result"
    }
   ],
   "source": [
    "false_negative = data[(data['predict'] == 0) & (data['status'] == 1)]\n",
    "false_negative"
   ]
  },
  {
   "cell_type": "code",
   "execution_count": 68,
   "metadata": {
    "collapsed": false
   },
   "outputs": [
    {
     "data": {
      "text/html": [
       "<div>\n",
       "<table border=\"1\" class=\"dataframe\">\n",
       "  <thead>\n",
       "    <tr style=\"text-align: right;\">\n",
       "      <th></th>\n",
       "      <th>text</th>\n",
       "      <th>status</th>\n",
       "      <th>predict_proba</th>\n",
       "      <th>predict</th>\n",
       "      <th>lang</th>\n",
       "    </tr>\n",
       "  </thead>\n",
       "  <tbody>\n",
       "    <tr>\n",
       "      <th>20598</th>\n",
       "      <td>срочно нужна кровь срочно</td>\n",
       "      <td>0</td>\n",
       "      <td>0.984184</td>\n",
       "      <td>1</td>\n",
       "      <td>ru</td>\n",
       "    </tr>\n",
       "    <tr>\n",
       "      <th>33641</th>\n",
       "      <td>мне нужна кровь</td>\n",
       "      <td>0</td>\n",
       "      <td>0.579167</td>\n",
       "      <td>1</td>\n",
       "      <td>ru</td>\n",
       "    </tr>\n",
       "  </tbody>\n",
       "</table>\n",
       "</div>"
      ],
      "text/plain": [
       "                             text  status  predict_proba  predict lang\n",
       "20598  срочно нужна кровь срочно        0       0.984184        1   ru\n",
       "33641            мне нужна кровь        0       0.579167        1   ru"
      ]
     },
     "execution_count": 68,
     "metadata": {},
     "output_type": "execute_result"
    }
   ],
   "source": [
    "false_positive = data[(data['predict'] == 1) & (data['status'] == 0)]\n",
    "false_positive"
   ]
  },
  {
   "cell_type": "code",
   "execution_count": 69,
   "metadata": {
    "collapsed": false
   },
   "outputs": [
    {
     "name": "stdout",
     "output_type": "stream",
     "text": [
      "0.984221284183\n"
     ]
    }
   ],
   "source": [
    "word_vector = vectorizer.transform(['ребят очень нужен донор крови выручите пожалуйта'])\n",
    "print(model.predict_proba(word_vector)[0][1])"
   ]
  },
  {
   "cell_type": "code",
   "execution_count": 70,
   "metadata": {
    "collapsed": false
   },
   "outputs": [],
   "source": [
    "data.to_csv('cleaned_data.csv')"
   ]
  },
  {
   "cell_type": "code",
   "execution_count": 23,
   "metadata": {
    "collapsed": false
   },
   "outputs": [],
   "source": [
    "from dill import dill\n",
    "\n",
    "with open('model/svm/vectorizer.pkl', 'wb') as f:\n",
    "    dill.dump(vectorizer, f)\n",
    "\n",
    "with open('model/svm/model.pkl', 'wb') as f:\n",
    "    dill.dump(model, f)"
   ]
  }
 ],
 "metadata": {
  "kernelspec": {
   "display_name": "Python 3",
   "language": "python",
   "name": "python3"
  },
  "language_info": {
   "codemirror_mode": {
    "name": "ipython",
    "version": 3
   },
   "file_extension": ".py",
   "mimetype": "text/x-python",
   "name": "python",
   "nbconvert_exporter": "python",
   "pygments_lexer": "ipython3",
   "version": "3.5.2"
  }
 },
 "nbformat": 4,
 "nbformat_minor": 0
}
